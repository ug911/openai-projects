{
 "cells": [
  {
   "cell_type": "code",
   "execution_count": 7,
   "id": "a5d78a87",
   "metadata": {},
   "outputs": [],
   "source": [
    "import yaml\n",
    "import openai\n",
    "from pprint import pprint\n",
    "import json"
   ]
  },
  {
   "cell_type": "code",
   "execution_count": 8,
   "id": "76490446",
   "metadata": {},
   "outputs": [],
   "source": [
    "with open(\"configs/TJ_OPENAI_KEY.yaml\", \"r\") as f:\n",
    "    cx = yaml.safe_load(f)"
   ]
  },
  {
   "cell_type": "code",
   "execution_count": 9,
   "id": "aae89114",
   "metadata": {},
   "outputs": [],
   "source": [
    "client = openai.OpenAI(\n",
    "    # This is the default and can be omitted\n",
    "    api_key=cx['openai_api_key'],\n",
    ")"
   ]
  },
  {
   "cell_type": "markdown",
   "id": "cdc968f5",
   "metadata": {},
   "source": [
    "### Step 1: Ask for Company, Department and Designation"
   ]
  },
  {
   "cell_type": "code",
   "execution_count": 24,
   "id": "00ccddf4",
   "metadata": {},
   "outputs": [],
   "source": [
    "company = \"Financial Technology SaaS company\"\n",
    "designation = \"Engineering Manager\"\n",
    "department = \"Technology team\""
   ]
  },
  {
   "cell_type": "markdown",
   "id": "80b014e6",
   "metadata": {},
   "source": [
    "### Step 2: Get 10 Questions for the Designation/Department/Company"
   ]
  },
  {
   "cell_type": "code",
   "execution_count": 37,
   "id": "fec9e139",
   "metadata": {},
   "outputs": [
    {
     "name": "stdout",
     "output_type": "stream",
     "text": [
      "What should be the 10 questions that you can ask to find out the skills that a Engineering Manager in Technology team has who is working in a Financial Technology SaaS company?\n"
     ]
    }
   ],
   "source": [
    "prompt = \"What should be the 10 questions that you can ask to find out the skills that a {designation} in {department} has who is working in a {company}?\".format(designation=designation, department=department, company=company)\n",
    "print(prompt)"
   ]
  },
  {
   "cell_type": "code",
   "execution_count": 28,
   "id": "f21ee6a3",
   "metadata": {},
   "outputs": [],
   "source": [
    "chat_completion = client.chat.completions.create(\n",
    "    messages=[\n",
    "        {\n",
    "            \"role\": \"user\",\n",
    "            \"content\": prompt,\n",
    "        }\n",
    "    ],\n",
    "    model=\"gpt-3.5-turbo\",\n",
    ")"
   ]
  },
  {
   "cell_type": "code",
   "execution_count": 35,
   "id": "de27eb38",
   "metadata": {},
   "outputs": [
    {
     "name": "stdout",
     "output_type": "stream",
     "text": [
      "1. Can you describe your experience managing engineering teams within a financial technology SaaS company?\n",
      "2. How do you approach prioritizing and allocating resources for engineering projects in a fast-paced environment?\n",
      "3. Can you discuss a successful project that you led and the specific engineering skills that were critical to its success?\n",
      "4. How do you stay current with new technologies and trends in the financial technology industry?\n",
      "5. How do you assess and develop the technical skills of your team members?\n",
      "6. Have you had experience working with data security and compliance regulations specific to financial technology platforms?\n",
      "7. How do you approach problem-solving and decision-making within your engineering team?\n",
      "8. Can you discuss a challenging situation you faced as an engineering manager and how you navigated it?\n",
      "9. How do you foster collaboration and communication among cross-functional teams within the organization?\n",
      "10. How do you measure the success and performance of your engineering team and individual team members?\n"
     ]
    }
   ],
   "source": [
    "print(chat_completion.choices[0].message.to_dict()['content'])"
   ]
  },
  {
   "cell_type": "markdown",
   "id": "3a2147b5",
   "metadata": {},
   "source": [
    "### Step 3: Get Required Skills that the Designation/Department/Company"
   ]
  },
  {
   "cell_type": "code",
   "execution_count": 38,
   "id": "a8855e00",
   "metadata": {},
   "outputs": [
    {
     "name": "stdout",
     "output_type": "stream",
     "text": [
      "What should be skills that a Engineering Manager in Technology team should have who is working in a Financial Technology SaaS company? Please provide the category and skills inside that category\n"
     ]
    }
   ],
   "source": [
    "prompt2 = \"What should be skills that a {designation} in {department} should have who is working in a {company}? Please provide the category and skills inside that category\".format(designation=designation, department=department, company=company)\n",
    "print(prompt2)"
   ]
  },
  {
   "cell_type": "code",
   "execution_count": 39,
   "id": "26ad16b7",
   "metadata": {},
   "outputs": [],
   "source": [
    "chat_completion = client.chat.completions.create(\n",
    "    messages=[\n",
    "        {\n",
    "            \"role\": \"user\",\n",
    "            \"content\": prompt2,\n",
    "        }\n",
    "    ],\n",
    "    model=\"gpt-3.5-turbo\",\n",
    ")"
   ]
  },
  {
   "cell_type": "code",
   "execution_count": 40,
   "id": "5523437f",
   "metadata": {},
   "outputs": [
    {
     "name": "stdout",
     "output_type": "stream",
     "text": [
      "Technical Skills:\n",
      "1. Proficiency in programming languages such as Java, Python, or C++\n",
      "2. Knowledge of cloud computing technologies such as AWS or Azure\n",
      "3. Experience with databases such as SQL or NoSQL\n",
      "4. Familiarity with DevOps tools and practices\n",
      "5. Understanding of cybersecurity best practices\n",
      "\n",
      "Managerial Skills:\n",
      "1. Leadership and team management\n",
      "2. Strategic planning and decision-making\n",
      "3. Effective communication and collaboration\n",
      "4. Ability to prioritize and delegate tasks\n",
      "5. Budgeting and resource management\n",
      "\n",
      "Domain Knowledge:\n",
      "1. Understanding of financial technology (FinTech) industry trends and regulations\n",
      "2. Knowledge of SaaS business models and subscription-based services\n",
      "3. Experience working with financial data and APIs\n",
      "4. Familiarity with payment processing systems and protocols\n",
      "5. Awareness of compliance and security standards in the financial industry.\n"
     ]
    }
   ],
   "source": [
    "print(chat_completion.choices[0].message.to_dict()['content'])"
   ]
  },
  {
   "cell_type": "markdown",
   "id": "1952a237",
   "metadata": {},
   "source": [
    "### Step 4: Create instructions (prompt) for the assistant usint the generated questions\n",
    "\n",
    "#### Main Context for the Assistant\n",
    "```\n",
    "## Aim: \n",
    "- Ask questions to gather information about the skills of the user  \n",
    "- Use the provided questions as a guideline to ask questions\n",
    "\n",
    "## Persona: \n",
    "- Always stay on point and do not get distracted\n",
    "- Encourage user to think deeply and articulate their thoughts clearly\n",
    "- Be encouraging and inquisitive\n",
    "- Maintain professionalism in all circumstances\n",
    "- Ensure the user feels supported throughout the conversation\n",
    "\n",
    "## Restrictions\n",
    "- Do not deviate from a professional demeanor\n",
    "- Do not use slang, jargon, or inappropriate language under any circumstances\n",
    "- Do not provide answers or opinions on the topics discussed\n",
    "- Do not disclose or discuss any specific reasons behind asking the questions\n",
    "\n",
    "## Ending the conversation\n",
    "- End after all information is gathered\n",
    "- End with this exact phrase \"Thank you for your anwsers. Hope you have a good day. Bye.\"\n",
    "\n",
    "```\n",
    "\n",
    "#### Additional Context for each run\n",
    "```\n",
    "## Questions to use as guidelines\n",
    "{{ Add the generated questions }}\n",
    "```"
   ]
  },
  {
   "cell_type": "markdown",
   "id": "d579c265",
   "metadata": {},
   "source": [
    "### Step 5A: Start a conversation using the generated questions\n",
    "\n",
    "- Create a `thread()` \n",
    "- Add a `messsage( { \"role\": \"user\", \"content\": \"Let's start the interview\" })`  to the `thread()`\n",
    "- Generate a response from the assistant using `run(<thread_id>)`\n",
    "    - Give the contructed prompt with the generated questions in `additional_context` parameter\n",
    "- Add the assistant's response as `messsage( { \"role\": \"assistant\", \"content\": <response> })`  to the `thread()`"
   ]
  },
  {
   "cell_type": "markdown",
   "id": "3c825fe5",
   "metadata": {},
   "source": [
    "### Step 5B: Continue the conversation with the user\n",
    "- Send the assistant's `response` to the user\n",
    "- Add the user's response as a `messsage( { \"role\": \"user\", \"content\": <user response> })` to the `thread()`\n",
    "- Generate a response from the assistant using `run(<thread_id>)` using the same `additional_context`\n",
    "- Add the assistant's response as `messsage( { \"role\": \"assistant\", \"content\": <response> })`  to the `thread()`"
   ]
  },
  {
   "cell_type": "markdown",
   "id": "220e464a",
   "metadata": {},
   "source": [
    "### Step 5C: Lookout for the ending phrase to end the conversation\n",
    "\n",
    "```\n",
    "Thank you for your anwsers. Hope you have a good day. Bye.\n",
    "```"
   ]
  },
  {
   "cell_type": "markdown",
   "id": "c26f0f71",
   "metadata": {},
   "source": [
    "### Step 6: Analyse the Skills from the conversation\n",
    "\n",
    "```\n",
    "## Aim: Based on the conversation, \n",
    "- Evaluate the user's skills\n",
    "- For each of the mentioned skills, give a rating as mentioned\n",
    "    \n",
    "## Output\n",
    "For each required skill, provide the following information\n",
    "- Skill Present: Does conversation mention about the skill\n",
    "    - Value should be \"Yes\" if the skill is mentioned in the conversation\n",
    "    - Value should be \"No\" if the skill is not mentioned\n",
    "- Level of knowledge of the skill: How well the user demonstrates this skill\n",
    "    - Good: Demonstrates exceptional abilities about the skill\n",
    "    - Medium: User demonstrates some abilities and willingness to learn\n",
    "    - Low: User lacks enough knowledge of the skill\n",
    "    - Not present: There is no mention of the skill in the conversation\n",
    "\n",
    "## Skills\n",
    "{{ Generated Skills }}\n",
    "\n",
    "## Conversation\n",
    "{{ Conversation messages }}\n",
    "```"
   ]
  },
  {
   "cell_type": "markdown",
   "id": "dc9392e1",
   "metadata": {},
   "source": [
    "### Code Samples"
   ]
  },
  {
   "cell_type": "code",
   "execution_count": 19,
   "id": "b1d3ffb7",
   "metadata": {},
   "outputs": [],
   "source": [
    "all_assistants = client.beta.assistants.list(\n",
    "    order=\"desc\",\n",
    "    limit=\"20\",\n",
    ")"
   ]
  },
  {
   "cell_type": "code",
   "execution_count": 20,
   "id": "873e3397",
   "metadata": {},
   "outputs": [
    {
     "name": "stdout",
     "output_type": "stream",
     "text": [
      "asst_785xQFlHBDyI84T5aSjmDi98\tgpt-3.5-turbo\tTest Assistant\n",
      "asst_JK6xg3nNQZsy3IVTa4rf4SpF\tgpt-3.5-turbo-0125\tTheInterviewer\n",
      "asst_tYcT1yCAtsF7cmIWPs4vvrQ4\tgpt-4-turbo\t\n"
     ]
    }
   ],
   "source": [
    "for _asst in all_assistants.to_dict().get('data', []):\n",
    "    print('{}\\t{}\\t{}'.format(_asst.get('id'), _asst.get('model'), _asst.get('name')))"
   ]
  },
  {
   "cell_type": "markdown",
   "id": "181b3bad",
   "metadata": {},
   "source": [
    "### Assistant Details \n",
    "- Name = `Test Assistant`\n",
    "- ID = `asst_785xQFlHBDyI84T5aSjmDi98`\n",
    "- Model = `gpt-3.5-turbo`"
   ]
  },
  {
   "cell_type": "code",
   "execution_count": 21,
   "id": "b067131d",
   "metadata": {},
   "outputs": [
    {
     "name": "stdout",
     "output_type": "stream",
     "text": [
      "{\n",
      "  \"id\": \"asst_785xQFlHBDyI84T5aSjmDi98\",\n",
      "  \"created_at\": 1715681747,\n",
      "  \"description\": null,\n",
      "  \"instructions\": \"You are a helpful assistant. Given a set of instructions you will repeat the instructions again.\",\n",
      "  \"metadata\": {},\n",
      "  \"model\": \"gpt-3.5-turbo\",\n",
      "  \"name\": \"Test Assistant\",\n",
      "  \"object\": \"assistant\",\n",
      "  \"tools\": [],\n",
      "  \"response_format\": \"auto\",\n",
      "  \"temperature\": 1.0,\n",
      "  \"tool_resources\": {},\n",
      "  \"top_p\": 1.0\n",
      "}\n"
     ]
    }
   ],
   "source": [
    "my_assistant = client.beta.assistants.retrieve(\"asst_785xQFlHBDyI84T5aSjmDi98\")\n",
    "print(my_assistant.to_json())"
   ]
  },
  {
   "cell_type": "code",
   "execution_count": 12,
   "id": "cd8ceaba",
   "metadata": {},
   "outputs": [],
   "source": [
    "assistant = client.beta.assistants.create(\n",
    "    name=\"Test Assistant\",\n",
    "    instructions=\"You are a helpful assistant. Given a set of instructions you will repeat the instructions again.\",\n",
    "    model=\"gpt-3.5-turbo\"\n",
    ")"
   ]
  },
  {
   "cell_type": "code",
   "execution_count": 13,
   "id": "6fc2b9e3",
   "metadata": {},
   "outputs": [
    {
     "data": {
      "text/plain": [
       "Assistant(id='asst_785xQFlHBDyI84T5aSjmDi98', created_at=1715681747, description=None, instructions='You are a helpful assistant. Given a set of instructions you will repeat the instructions again.', metadata={}, model='gpt-3.5-turbo', name='Test Assistant', object='assistant', tools=[], response_format='auto', temperature=1.0, tool_resources=ToolResources(code_interpreter=None, file_search=None), top_p=1.0)"
      ]
     },
     "execution_count": 13,
     "metadata": {},
     "output_type": "execute_result"
    }
   ],
   "source": [
    "assistant"
   ]
  },
  {
   "cell_type": "code",
   "execution_count": 15,
   "id": "e0c9eeb8",
   "metadata": {},
   "outputs": [
    {
     "name": "stdout",
     "output_type": "stream",
     "text": [
      "Assistant(id='asst_785xQFlHBDyI84T5aSjmDi98', created_at=1715681747, description=None, instructions='You are a helpful assistant. Given a set of instructions you will repeat the instructions again.', metadata={}, model='gpt-3.5-turbo', name='Test Assistant', object='assistant', tools=[], response_format='auto', temperature=1.0, tool_resources=ToolResources(code_interpreter=None, file_search=None), top_p=1.0)\n"
     ]
    }
   ],
   "source": [
    "from pprint import pprint\n",
    "\n",
    "pprint(assistant)"
   ]
  },
  {
   "cell_type": "code",
   "execution_count": 16,
   "id": "08e2e70e",
   "metadata": {},
   "outputs": [
    {
     "name": "stdout",
     "output_type": "stream",
     "text": [
      "Thread(id='thread_StaAt5VpjJl34IJNF4xjoT62', created_at=1715685440, metadata={}, object='thread', tool_resources=ToolResources(code_interpreter=None, file_search=None))\n"
     ]
    }
   ],
   "source": [
    "empty_thread = client.beta.threads.create()\n",
    "print(empty_thread)"
   ]
  },
  {
   "cell_type": "code",
   "execution_count": 17,
   "id": "eb5d0d4c",
   "metadata": {},
   "outputs": [
    {
     "data": {
      "text/plain": [
       "Thread(id='thread_StaAt5VpjJl34IJNF4xjoT62', created_at=1715685440, metadata={}, object='thread', tool_resources=ToolResources(code_interpreter=ToolResourcesCodeInterpreter(file_ids=[]), file_search=None))"
      ]
     },
     "execution_count": 17,
     "metadata": {},
     "output_type": "execute_result"
    }
   ],
   "source": [
    "client.beta.threads.retrieve(\"thread_StaAt5VpjJl34IJNF4xjoT62\")"
   ]
  },
  {
   "cell_type": "code",
   "execution_count": 19,
   "id": "00ba77fe",
   "metadata": {},
   "outputs": [
    {
     "name": "stdout",
     "output_type": "stream",
     "text": [
      "Message(id='msg_YxBaHu6mHKSeQKWygfDdy3Fr', assistant_id=None, attachments=[], completed_at=None, content=[TextContentBlock(text=Text(annotations=[], value='How does AI work? Explain it in simple terms.'), type='text')], created_at=1715688238, incomplete_at=None, incomplete_details=None, metadata={}, object='thread.message', role='user', run_id=None, status=None, thread_id='thread_StaAt5VpjJl34IJNF4xjoT62')\n"
     ]
    }
   ],
   "source": [
    "thread_message = client.beta.threads.messages.create(\n",
    "  \"thread_StaAt5VpjJl34IJNF4xjoT62\",\n",
    "  role=\"user\",\n",
    "  content=\"How does AI work? Explain it in simple terms.\",\n",
    ")\n",
    "print(thread_message)"
   ]
  },
  {
   "cell_type": "code",
   "execution_count": 25,
   "id": "7bcc9240",
   "metadata": {},
   "outputs": [
    {
     "data": {
      "text/plain": [
       "{'id': 'thread_StaAt5VpjJl34IJNF4xjoT62',\n",
       " 'created_at': 1715685440,\n",
       " 'metadata': {},\n",
       " 'object': 'thread',\n",
       " 'tool_resources': {'code_interpreter': {'file_ids': []}}}"
      ]
     },
     "execution_count": 25,
     "metadata": {},
     "output_type": "execute_result"
    }
   ],
   "source": [
    "json.loads(client.beta.threads.retrieve(\"thread_StaAt5VpjJl34IJNF4xjoT62\").to_json())"
   ]
  },
  {
   "cell_type": "code",
   "execution_count": 24,
   "id": "b1dc1de2",
   "metadata": {},
   "outputs": [
    {
     "data": {
      "text/plain": [
       "{'data': [{'id': 'msg_YxBaHu6mHKSeQKWygfDdy3Fr',\n",
       "   'assistant_id': None,\n",
       "   'attachments': [],\n",
       "   'content': [{'text': {'annotations': [],\n",
       "      'value': 'How does AI work? Explain it in simple terms.'},\n",
       "     'type': 'text'}],\n",
       "   'created_at': 1715688238,\n",
       "   'metadata': {},\n",
       "   'object': 'thread.message',\n",
       "   'role': 'user',\n",
       "   'run_id': None,\n",
       "   'thread_id': 'thread_StaAt5VpjJl34IJNF4xjoT62'}],\n",
       " 'object': 'list',\n",
       " 'first_id': 'msg_YxBaHu6mHKSeQKWygfDdy3Fr',\n",
       " 'last_id': 'msg_YxBaHu6mHKSeQKWygfDdy3Fr',\n",
       " 'has_more': False}"
      ]
     },
     "execution_count": 24,
     "metadata": {},
     "output_type": "execute_result"
    }
   ],
   "source": [
    "import json\n",
    "json.loads(client.beta.threads.messages.list(\"thread_StaAt5VpjJl34IJNF4xjoT62\").to_json())"
   ]
  },
  {
   "cell_type": "code",
   "execution_count": null,
   "id": "bc315f2f",
   "metadata": {},
   "outputs": [],
   "source": []
  }
 ],
 "metadata": {
  "kernelspec": {
   "display_name": "Python 3",
   "language": "python",
   "name": "python3"
  },
  "language_info": {
   "codemirror_mode": {
    "name": "ipython",
    "version": 3
   },
   "file_extension": ".py",
   "mimetype": "text/x-python",
   "name": "python",
   "nbconvert_exporter": "python",
   "pygments_lexer": "ipython3",
   "version": "3.8.8"
  }
 },
 "nbformat": 4,
 "nbformat_minor": 5
}
