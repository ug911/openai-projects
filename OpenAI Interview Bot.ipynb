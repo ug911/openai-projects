{
 "cells": [
  {
   "cell_type": "code",
   "execution_count": null,
   "metadata": {
    "cell_id": "bc4c8edb42214d299af6d034fd586314",
    "deepnote_cell_type": "code",
    "deepnote_to_be_reexecuted": false,
    "execution_millis": 9239,
    "execution_start": 1716016790754,
    "source_hash": null
   },
   "outputs": [
    {
     "name": "stdout",
     "output_type": "stream",
     "text": [
      "Requirement already satisfied: pip in /root/venv/lib/python3.9/site-packages (24.0)\n",
      "Requirement already satisfied: PyYaml in /root/venv/lib/python3.9/site-packages (6.0.1)\n",
      "Requirement already satisfied: openai in /root/venv/lib/python3.9/site-packages (1.30.1)\n",
      "Requirement already satisfied: anyio<5,>=3.5.0 in /shared-libs/python3.9/py-core/lib/python3.9/site-packages (from openai) (3.6.2)\n",
      "Requirement already satisfied: distro<2,>=1.7.0 in /root/venv/lib/python3.9/site-packages (from openai) (1.9.0)\n",
      "Requirement already satisfied: httpx<1,>=0.23.0 in /root/venv/lib/python3.9/site-packages (from openai) (0.27.0)\n",
      "Requirement already satisfied: pydantic<3,>=1.9.0 in /shared-libs/python3.9/py/lib/python3.9/site-packages (from openai) (1.10.2)\n",
      "Requirement already satisfied: sniffio in /shared-libs/python3.9/py-core/lib/python3.9/site-packages (from openai) (1.3.0)\n",
      "Requirement already satisfied: tqdm>4 in /shared-libs/python3.9/py/lib/python3.9/site-packages (from openai) (4.64.1)\n",
      "Requirement already satisfied: typing-extensions<5,>=4.7 in /root/venv/lib/python3.9/site-packages (from openai) (4.11.0)\n",
      "Requirement already satisfied: idna>=2.8 in /shared-libs/python3.9/py-core/lib/python3.9/site-packages (from anyio<5,>=3.5.0->openai) (3.4)\n",
      "Requirement already satisfied: certifi in /shared-libs/python3.9/py/lib/python3.9/site-packages (from httpx<1,>=0.23.0->openai) (2022.9.24)\n",
      "Requirement already satisfied: httpcore==1.* in /root/venv/lib/python3.9/site-packages (from httpx<1,>=0.23.0->openai) (1.0.5)\n",
      "Requirement already satisfied: h11<0.15,>=0.13 in /root/venv/lib/python3.9/site-packages (from httpcore==1.*->httpx<1,>=0.23.0->openai) (0.14.0)\n"
     ]
    }
   ],
   "source": [
    "!pip install --upgrade pip\n",
    "!pip install PyYaml\n",
    "!pip install openai"
   ]
  },
  {
   "cell_type": "code",
   "execution_count": null,
   "metadata": {
    "cell_id": "f85c4c81d15b4aa390028c08d97b7cf2",
    "deepnote_cell_type": "code",
    "deepnote_to_be_reexecuted": false,
    "execution_millis": 87,
    "execution_start": 1716021112068,
    "source_hash": null
   },
   "outputs": [],
   "source": [
    "import yaml\n",
    "import openai\n",
    "from pprint import pprint\n",
    "import json\n",
    "import time"
   ]
  },
  {
   "cell_type": "code",
   "execution_count": null,
   "metadata": {
    "cell_id": "bfdeedfe0d854d3f9278b2980e5682a5",
    "deepnote_cell_type": "code",
    "deepnote_to_be_reexecuted": false,
    "execution_millis": 612,
    "execution_start": 1716016804210,
    "source_hash": null
   },
   "outputs": [
    {
     "name": "stdout",
     "output_type": "stream",
     "text": [
      "/datasets/_deepnote_work/openai-projects\n"
     ]
    }
   ],
   "source": [
    "!pwd"
   ]
  },
  {
   "cell_type": "code",
   "execution_count": null,
   "metadata": {
    "cell_id": "e1a56c6aee2849f0a07b4721a7544365",
    "deepnote_cell_type": "code",
    "deepnote_to_be_reexecuted": false,
    "execution_millis": 196,
    "execution_start": 1716016807788,
    "source_hash": null
   },
   "outputs": [],
   "source": [
    "with open(\"configs/TJ_OPENAI_KEY.yaml\", \"r\") as f:\n",
    "    cx = yaml.safe_load(f)"
   ]
  },
  {
   "cell_type": "code",
   "execution_count": null,
   "metadata": {
    "cell_id": "b7f58a1b0c4f4c0e8156fc77ea023455",
    "deepnote_cell_type": "code",
    "deepnote_to_be_reexecuted": false,
    "execution_millis": 15,
    "execution_start": 1716016812799,
    "source_hash": null
   },
   "outputs": [],
   "source": [
    "client = openai.OpenAI(\n",
    "    # This is the default and can be omitted\n",
    "    api_key=cx['openai_api_key'],\n",
    ")"
   ]
  },
  {
   "cell_type": "markdown",
   "metadata": {
    "cell_id": "cf10dafd65b04ff0bf640dc3dabf201f",
    "deepnote_cell_type": "markdown"
   },
   "source": [
    "### Step 1: Ask for Company, Department and Designation"
   ]
  },
  {
   "cell_type": "code",
   "execution_count": null,
   "metadata": {
    "cell_id": "f8f2cfcfdd594f2ba48bc243faa4da8d",
    "deepnote_cell_type": "code",
    "deepnote_to_be_reexecuted": false,
    "execution_millis": 52457,
    "execution_start": 1716017037115,
    "source_hash": null
   },
   "outputs": [
    {
     "name": "stdout",
     "output_type": "stream",
     "text": [
      "Step 1: Enter the info of the company eg.. Financial Technology SaaS company\n",
      "You have entered - Educational Software provider\n",
      "\n",
      "--------------------\n",
      "\n",
      "\n",
      "Step 2: Enter your designation eg.. Engineering Manager\n",
      "You have entered - Engineering Manager\n",
      "\n",
      "--------------------\n",
      "\n",
      "\n",
      "Step 3: Enter your team eg.. Technology team\n",
      "You have entered - Technology team\n",
      "\n",
      "--------------------\n",
      "\n"
     ]
    }
   ],
   "source": [
    "print(\"Step 1: Enter the info of the company eg.. Financial Technology SaaS company\")\n",
    "company = input(\"> Enter here: \")\n",
    "print(\"You have entered - {}\\n\\n--------------------\\n\".format(company))\n",
    "print(\"\\nStep 2: Enter your designation eg.. Engineering Manager\")\n",
    "designation = input(\"> Enter here: \")\n",
    "print(\"You have entered - {}\\n\\n--------------------\\n\".format(designation))\n",
    "print(\"\\nStep 3: Enter your team eg.. Technology team\")\n",
    "department = input(\"> Enter here: \")\n",
    "print(\"You have entered - {}\\n\\n--------------------\\n\".format(department))"
   ]
  },
  {
   "cell_type": "markdown",
   "metadata": {
    "cell_id": "a2cb51351b094bd4bce3701c090d8a6f",
    "deepnote_cell_type": "markdown"
   },
   "source": [
    "### Step 2: Get 10 Questions for the Designation/Department/Company"
   ]
  },
  {
   "cell_type": "code",
   "execution_count": null,
   "metadata": {
    "cell_id": "1acb7535cf854891abfe4d9a12785616",
    "deepnote_cell_type": "code",
    "deepnote_to_be_reexecuted": false,
    "execution_millis": 23,
    "execution_start": 1716017095324,
    "source_hash": null
   },
   "outputs": [
    {
     "name": "stdout",
     "output_type": "stream",
     "text": [
      "What should be the 10 questions that you can ask to find out the skills that a Engineering Manager in Technology team has who is working in a Educational Software provider?\n"
     ]
    }
   ],
   "source": [
    "prompt = \"What should be the 10 questions that you can ask to find out the skills that a {designation} in {department} has who is working in a {company}?\".format(designation=designation, department=department, company=company)\n",
    "print(prompt)"
   ]
  },
  {
   "cell_type": "code",
   "execution_count": null,
   "metadata": {
    "cell_id": "c1300a51fb674f2a95008f92ff952f39",
    "deepnote_cell_type": "code",
    "deepnote_to_be_reexecuted": false,
    "execution_millis": 4792,
    "execution_start": 1716017120997,
    "source_hash": null
   },
   "outputs": [],
   "source": [
    "chat_completion = client.chat.completions.create(\n",
    "    messages=[\n",
    "        {\n",
    "            \"role\": \"user\",\n",
    "            \"content\": prompt,\n",
    "        }\n",
    "    ],\n",
    "    model=\"gpt-3.5-turbo\",\n",
    ")"
   ]
  },
  {
   "cell_type": "code",
   "execution_count": null,
   "metadata": {
    "cell_id": "486b30d0d3654865983942f6003c4b4b",
    "deepnote_cell_type": "code",
    "deepnote_to_be_reexecuted": false,
    "execution_millis": 56,
    "execution_start": 1716017127792,
    "source_hash": null
   },
   "outputs": [
    {
     "name": "stdout",
     "output_type": "stream",
     "text": [
      "1. Can you provide examples of your experience leading technology teams in the development and delivery of educational software products?\n",
      "2. How do you stay current with emerging technologies and trends in the educational software industry?\n",
      "3. How do you approach project management and ensure successful implementation of software development projects?\n",
      "4. Can you describe a time when you had to resolve a technical issue or bottleneck within your team? How did you handle it?\n",
      "5. How do you prioritize and allocate resources, such as budget and manpower, for technology projects within an educational software provider?\n",
      "6. Can you give examples of how you have collaborated with cross-functional teams, such as product, design, and marketing, to achieve successful outcomes for educational software products?\n",
      "7. How do you assess and address the technical skills and development needs of your team members?\n",
      "8. Can you discuss a time when you successfully led a team through a major technology upgrade or migration within an educational software provider?\n",
      "9. How do you approach performance evaluations and career development for your team members within a technology team in an educational software provider?\n",
      "10. What strategies do you use to foster a culture of innovation and continuous learning within your technology team in the context of educational software development?\n"
     ]
    }
   ],
   "source": [
    "questions = chat_completion.choices[0].message.to_dict()['content']\n",
    "print(questions)"
   ]
  },
  {
   "cell_type": "markdown",
   "metadata": {
    "cell_id": "04bc340f9ff74e0ab531c0479dde7425",
    "deepnote_cell_type": "markdown"
   },
   "source": [
    "### Step 3: Get Required Skills that the Designation/Department/Company"
   ]
  },
  {
   "cell_type": "code",
   "execution_count": null,
   "metadata": {
    "cell_id": "e56d97aa16d443a99cf37df663d28c0a",
    "deepnote_cell_type": "code",
    "deepnote_to_be_reexecuted": false,
    "execution_millis": 67,
    "execution_start": 1716017134926,
    "source_hash": null
   },
   "outputs": [
    {
     "name": "stdout",
     "output_type": "stream",
     "text": [
      "What should be skills that a Engineering Manager in Technology team should have who is working in a Educational Software provider? Please provide the category and skills inside that category\n"
     ]
    }
   ],
   "source": [
    "prompt2 = \"What should be skills that a {designation} in {department} should have who is working in a {company}? Please provide the category and skills inside that category\".format(designation=designation, department=department, company=company)\n",
    "print(prompt2)"
   ]
  },
  {
   "cell_type": "code",
   "execution_count": null,
   "metadata": {
    "cell_id": "b906b50c21a04351b1867b2392c72eab",
    "deepnote_cell_type": "code",
    "deepnote_to_be_reexecuted": false,
    "execution_millis": 4654,
    "execution_start": 1716017137947,
    "source_hash": null
   },
   "outputs": [],
   "source": [
    "chat_completion = client.chat.completions.create(\n",
    "    messages=[\n",
    "        {\n",
    "            \"role\": \"user\",\n",
    "            \"content\": prompt2,\n",
    "        }\n",
    "    ],\n",
    "    model=\"gpt-3.5-turbo\",\n",
    ")"
   ]
  },
  {
   "cell_type": "code",
   "execution_count": null,
   "metadata": {
    "cell_id": "71d055259a424916a0784b59f8d06325",
    "deepnote_cell_type": "code",
    "deepnote_to_be_reexecuted": false,
    "execution_millis": 191,
    "execution_start": 1716017153345,
    "source_hash": null
   },
   "outputs": [
    {
     "name": "stdout",
     "output_type": "stream",
     "text": [
      "1. Technical Skills:\n",
      "   a. Proficiency in software development languages and frameworks\n",
      "   b. Understanding of database management and design\n",
      "   c. Knowledge of cloud computing technologies and platforms\n",
      "   d. Ability to troubleshoot technical issues and provide solutions\n",
      "\n",
      "2. Leadership Skills:\n",
      "   a. Strong communication skills to effectively convey ideas and instructions to team members\n",
      "   b. Ability to inspire and motivate team members to achieve common goals\n",
      "   c. Decision-making and problem-solving abilities to resolve conflicts and make strategic decisions\n",
      "   d. Project management skills to prioritize tasks and meet deadlines\n",
      "\n",
      "3. Educational Domain Knowledge:\n",
      "   a. Understanding of educational software development principles and practices\n",
      "   b. Knowledge of learning management systems and educational technologies\n",
      "   c. Familiarity with educational standards and regulations\n",
      "   d. Ability to create innovative solutions that cater to the needs of educators and students\n",
      "\n",
      "4. Team Building Skills:\n",
      "   a. Ability to build and manage diverse teams with varying skill sets and backgrounds\n",
      "   b. Capacity to foster a collaborative and inclusive work environment\n",
      "   c. Conflict resolution skills to address team dynamics and interpersonal issues\n",
      "   d. Mentoring and coaching abilities to support team members in their professional development\n",
      "\n",
      "5. Business Acumen:\n",
      "   a. Understanding of market trends and competition in the educational software industry\n",
      "   b. Ability to align technical decisions with business objectives and strategies\n",
      "   c. Experience in budgeting and resource management to optimize team performance\n",
      "   d. Entrepreneurial mindset to identify new opportunities for growth and innovation.\n"
     ]
    }
   ],
   "source": [
    "skills = chat_completion.choices[0].message.to_dict()['content']\n",
    "print(skills)"
   ]
  },
  {
   "cell_type": "markdown",
   "metadata": {
    "cell_id": "5e876f51f69e46c6b876541c6c809929",
    "deepnote_cell_type": "markdown"
   },
   "source": [
    "### Step 4: Create instructions (prompt) for the assistant usint the generated questions\n",
    "\n",
    "#### Main Context for the Assistant\n",
    "```\n",
    "## Aim: \n",
    "- Ask questions to gather information about the skills of the user  \n",
    "- Use the provided questions as a guideline to ask questions\n",
    "\n",
    "## Persona: \n",
    "- Always stay on point and do not get distracted\n",
    "- Encourage user to think deeply and articulate their thoughts clearly\n",
    "- Be encouraging and inquisitive\n",
    "- Maintain professionalism in all circumstances\n",
    "- Ensure the user feels supported throughout the conversation\n",
    "\n",
    "## Restrictions\n",
    "- Do not deviate from a professional demeanor\n",
    "- Do not use slang, jargon, or inappropriate language under any circumstances\n",
    "- Do not provide answers or opinions on the topics discussed\n",
    "- Do not disclose or discuss any specific reasons behind asking the questions\n",
    "\n",
    "## Ending the conversation\n",
    "- End after all information is gathered\n",
    "- End with this exact phrase \"Thank you for your anwsers. Hope you have a good day. Bye.\"\n",
    "\n",
    "```\n",
    "\n",
    "#### Additional Context for each run\n",
    "```\n",
    "## Questions to use as guidelines\n",
    "{{ Add the generated questions }}\n",
    "```"
   ]
  },
  {
   "cell_type": "code",
   "execution_count": null,
   "metadata": {
    "cell_id": "8990371bdc3b42f28c5a87b24e985513",
    "deepnote_cell_type": "code",
    "deepnote_to_be_reexecuted": false,
    "execution_millis": 114,
    "execution_start": 1716017955847,
    "source_hash": null
   },
   "outputs": [
    {
     "name": "stdout",
     "output_type": "stream",
     "text": [
      "## Aim: \n",
      "- Ask questions to gather information about the skills of the user  \n",
      "- Use the provided questions as a guideline to ask questions\n",
      "\n",
      "## Persona: \n",
      "- Always stay on point and do not get distracted\n",
      "- Encourage user to think deeply and articulate their thoughts clearly\n",
      "- Be encouraging and inquisitive\n",
      "- Maintain professionalism in all circumstances\n",
      "- Ensure the user feels supported throughout the conversation\n",
      "\n",
      "## Restrictions\n",
      "- Do not deviate from a professional demeanor\n",
      "- Do not use slang, jargon, or inappropriate language under any circumstances\n",
      "- Do not provide answers or opinions on the topics discussed\n",
      "- Do not disclose or discuss any specific reasons behind asking the questions\n",
      "\n",
      "## Ending the conversation\n",
      "- End after all information is gathered\n",
      "- End with this exact phrase \"Thank you for your anwsers. Hope you have a good day. Bye.\n"
     ]
    }
   ],
   "source": [
    "assistant_instructions = '''## Aim: \n",
    "- Ask questions to gather information about the skills of the user  \n",
    "- Use the provided questions as a guideline to ask questions\n",
    "\n",
    "## Persona: \n",
    "- Always stay on point and do not get distracted\n",
    "- Encourage user to think deeply and articulate their thoughts clearly\n",
    "- Be encouraging and inquisitive\n",
    "- Maintain professionalism in all circumstances\n",
    "- Ensure the user feels supported throughout the conversation\n",
    "\n",
    "## Restrictions\n",
    "- Do not deviate from a professional demeanor\n",
    "- Do not use slang, jargon, or inappropriate language under any circumstances\n",
    "- Do not provide answers or opinions on the topics discussed\n",
    "- Do not disclose or discuss any specific reasons behind asking the questions\n",
    "\n",
    "## Ending the conversation\n",
    "- End after all information is gathered\n",
    "- End with this exact phrase \"Thank you for your anwsers. Hope you have a good day. Bye.'''\n",
    "print(assistant_instructions)"
   ]
  },
  {
   "cell_type": "code",
   "execution_count": null,
   "metadata": {
    "cell_id": "0e7bebcd8ad64ddc937a9412e5a88890",
    "deepnote_cell_type": "code",
    "deepnote_to_be_reexecuted": false,
    "execution_millis": 45,
    "execution_start": 1716020062584,
    "source_hash": null
   },
   "outputs": [
    {
     "name": "stdout",
     "output_type": "stream",
     "text": [
      "## Questions to use as guidelines \n",
      "1. Can you provide examples of your experience leading technology teams in the development and delivery of educational software products?\n",
      "2. How do you stay current with emerging technologies and trends in the educational software industry?\n",
      "3. How do you approach project management and ensure successful implementation of software development projects?\n",
      "4. Can you describe a time when you had to resolve a technical issue or bottleneck within your team? How did you handle it?\n",
      "5. How do you prioritize and allocate resources, such as budget and manpower, for technology projects within an educational software provider?\n",
      "6. Can you give examples of how you have collaborated with cross-functional teams, such as product, design, and marketing, to achieve successful outcomes for educational software products?\n",
      "7. How do you assess and address the technical skills and development needs of your team members?\n",
      "8. Can you discuss a time when you successfully led a team through a major technology upgrade or migration within an educational software provider?\n",
      "9. How do you approach performance evaluations and career development for your team members within a technology team in an educational software provider?\n",
      "10. What strategies do you use to foster a culture of innovation and continuous learning within your technology team in the context of educational software development?\n"
     ]
    }
   ],
   "source": [
    "additional_run_instructions = '## Questions to use as guidelines \\n{questions}'.format(questions=questions)\n",
    "print(additional_run_instructions)"
   ]
  },
  {
   "cell_type": "code",
   "execution_count": null,
   "metadata": {
    "cell_id": "0f9262ee671c4212b6cc659141957fbc",
    "deepnote_cell_type": "code",
    "deepnote_to_be_reexecuted": false,
    "execution_millis": 140,
    "execution_start": 1716018462949,
    "source_hash": null
   },
   "outputs": [
    {
     "name": "stdout",
     "output_type": "stream",
     "text": [
      "Found the assistant - Interview Assistant | asst_0Q7erY5h7KJl7MBCofscfmyN\n"
     ]
    }
   ],
   "source": [
    "assistant_name = \"Interview Assistant\"\n",
    "\n",
    "all_assistants = client.beta.assistants.list(\n",
    "    order=\"desc\",\n",
    "    limit=\"20\",\n",
    ")\n",
    "\n",
    "assistant_id = None\n",
    "for _asst in all_assistants.to_dict().get('data', []):\n",
    "    # print('{}\\t{}\\t{}'.format(_asst.get('id'), _asst.get('model'), _asst.get('name')))\n",
    "    if _asst.get('name', '') == assistant_name:\n",
    "        assistant_id = _asst.get('id')\n",
    "        print('Found the assistant - {} | {}'.format(assistant_name, assistant_id))\n",
    "\n",
    "if not assistant_id:\n",
    "    print(\"No Assistant Found.\")\n",
    "    print(\"Creating a new assistant...\")\n",
    "    assistant = client.beta.assistants.create(\n",
    "        name=\"Interview Assistant\",\n",
    "        instructions = assistant_instructions,\n",
    "        model=\"gpt-3.5-turbo\"\n",
    "    )\n",
    "    assistant_id = assistant.to_dict().get('id')"
   ]
  },
  {
   "cell_type": "markdown",
   "metadata": {
    "cell_id": "e00df054f4d84151acf32c42fc7839f5",
    "deepnote_cell_type": "markdown"
   },
   "source": [
    "### Step 5A: Start a conversation using the generated questions\n",
    "\n",
    "- Create a `thread()` \n",
    "- Add a `messsage( { \"role\": \"user\", \"content\": \"Let's start the interview\" })`  to the `thread()`\n",
    "- Generate a response from the assistant using `run(<thread_id>)`\n",
    "    - Give the contructed prompt with the generated questions in `additional_context` parameter\n",
    "- Add the assistant's response as `messsage( { \"role\": \"assistant\", \"content\": <response> })`  to the `thread()`"
   ]
  },
  {
   "cell_type": "code",
   "execution_count": null,
   "metadata": {
    "cell_id": "811739eb70e44930b238513cc33a97b0",
    "deepnote_cell_type": "code",
    "deepnote_to_be_reexecuted": false,
    "execution_millis": 82,
    "execution_start": 1716020316979,
    "source_hash": null
   },
   "outputs": [
    {
     "name": "stdout",
     "output_type": "stream",
     "text": [
      "{'id': 'thread_m0GGF8K6GxhpNq8UZrpBKZwQ', 'created_at': 1716020317, 'metadata': {}, 'object': 'thread', 'tool_resources': {}}\n"
     ]
    }
   ],
   "source": [
    "empty_thread = client.beta.threads.create()\n",
    "thread_id = empty_thread.to_dict()['id']\n",
    "print(empty_thread.to_dict())"
   ]
  },
  {
   "cell_type": "code",
   "execution_count": null,
   "metadata": {
    "cell_id": "60945631fc9b4cabada5d1d4f4977849",
    "deepnote_cell_type": "code",
    "deepnote_to_be_reexecuted": false,
    "execution_millis": 34,
    "execution_start": 1716020318688,
    "source_hash": null
   },
   "outputs": [
    {
     "name": "stdout",
     "output_type": "stream",
     "text": [
      "thread_m0GGF8K6GxhpNq8UZrpBKZwQ\n"
     ]
    }
   ],
   "source": [
    "print(thread_id)"
   ]
  },
  {
   "cell_type": "code",
   "execution_count": null,
   "metadata": {
    "cell_id": "72337b2d80f64f36bc892cdfbe87d308",
    "deepnote_cell_type": "code",
    "deepnote_to_be_reexecuted": false,
    "execution_millis": 210,
    "execution_start": 1716018930383,
    "source_hash": null
   },
   "outputs": [
    {
     "name": "stdout",
     "output_type": "stream",
     "text": [
      "Message(id='msg_w3gdigiMUk49Uat6x9UOuxIO', assistant_id=None, attachments=[], completed_at=None, content=[TextContentBlock(text=Text(annotations=[], value=\"Let's start the interview.\"), type='text')], created_at=1716018930, incomplete_at=None, incomplete_details=None, metadata={}, object='thread.message', role='user', run_id=None, status=None, thread_id='thread_2htW1sS5jHmzSdHuKwBI6ROv')\n"
     ]
    }
   ],
   "source": [
    "thread_message = client.beta.threads.messages.create(\n",
    "  thread_id,\n",
    "  role=\"user\",\n",
    "  content=\"Let's start the interview.\",\n",
    ")\n",
    "print(thread_message)"
   ]
  },
  {
   "cell_type": "code",
   "execution_count": null,
   "metadata": {
    "cell_id": "ca30186ab9e84fc2affb4c41a2debf25",
    "deepnote_cell_type": "code",
    "deepnote_to_be_reexecuted": false,
    "execution_millis": 295,
    "execution_start": 1716019020207,
    "source_hash": null
   },
   "outputs": [
    {
     "name": "stdout",
     "output_type": "stream",
     "text": [
      "{\n",
      "  \"id\": \"thread_2htW1sS5jHmzSdHuKwBI6ROv\",\n",
      "  \"created_at\": 1716018707,\n",
      "  \"metadata\": {},\n",
      "  \"object\": \"thread\",\n",
      "  \"tool_resources\": {\n",
      "    \"code_interpreter\": {\n",
      "      \"file_ids\": []\n",
      "    }\n",
      "  }\n",
      "}\n"
     ]
    }
   ],
   "source": [
    "thread = client.beta.threads.retrieve(thread_id)\n",
    "print(thread.to_json())"
   ]
  },
  {
   "cell_type": "code",
   "execution_count": null,
   "metadata": {
    "cell_id": "4dd0840f1db942e7adcb1b4365ef734e",
    "deepnote_cell_type": "code",
    "deepnote_to_be_reexecuted": false,
    "execution_millis": 121,
    "execution_start": 1716019268844,
    "source_hash": null
   },
   "outputs": [
    {
     "name": "stdout",
     "output_type": "stream",
     "text": [
      "{\n",
      "  \"data\": [\n",
      "    {\n",
      "      \"id\": \"msg_w3gdigiMUk49Uat6x9UOuxIO\",\n",
      "      \"assistant_id\": null,\n",
      "      \"attachments\": [],\n",
      "      \"content\": [\n",
      "        {\n",
      "          \"text\": {\n",
      "            \"annotations\": [],\n",
      "            \"value\": \"Let's start the interview.\"\n",
      "          },\n",
      "          \"type\": \"text\"\n",
      "        }\n",
      "      ],\n",
      "      \"created_at\": 1716018930,\n",
      "      \"metadata\": {},\n",
      "      \"object\": \"thread.message\",\n",
      "      \"role\": \"user\",\n",
      "      \"run_id\": null,\n",
      "      \"thread_id\": \"thread_2htW1sS5jHmzSdHuKwBI6ROv\"\n",
      "    }\n",
      "  ],\n",
      "  \"object\": \"list\",\n",
      "  \"first_id\": \"msg_w3gdigiMUk49Uat6x9UOuxIO\",\n",
      "  \"last_id\": \"msg_w3gdigiMUk49Uat6x9UOuxIO\",\n",
      "  \"has_more\": false\n",
      "}\n"
     ]
    }
   ],
   "source": [
    "messages = client.beta.threads.messages.list(thread_id)\n",
    "print(messages.to_json())"
   ]
  },
  {
   "cell_type": "markdown",
   "metadata": {
    "cell_id": "6d6400c0304941c7b75d6db3473ab729",
    "deepnote_cell_type": "markdown"
   },
   "source": [
    "### Step 5B: Continue the conversation with the user\n",
    "- Send the assistant's `response` to the user\n",
    "- Add the user's response as a `messsage( { \"role\": \"user\", \"content\": <user response> })` to the `thread()`\n",
    "- Generate a response from the assistant using `run(<thread_id>)` using the same `additional_context`\n",
    "- Add the assistant's response as `messsage( { \"role\": \"assistant\", \"content\": <response> })`  to the `thread()`"
   ]
  },
  {
   "cell_type": "code",
   "execution_count": null,
   "metadata": {
    "cell_id": "b192c64bb0d54c68809469519d429e39",
    "deepnote_cell_type": "code",
    "deepnote_to_be_reexecuted": false,
    "execution_millis": 476006,
    "execution_start": 1716021183187,
    "source_hash": null
   },
   "outputs": [
    {
     "name": "stdout",
     "output_type": "stream",
     "text": [
      "This is an interview bot to evaluate your skills ...\n",
      "Thread ID: thread_w5ApE0Kj2b0LkfQlEPjh2JEe\n",
      "hey\n",
      "bye\n",
      "Found user message. Fetching messages ... \n",
      "Found user message. Fetching messages ... \n",
      "Great! Let's start with the first question:\n",
      "\n",
      "1. Can you provide examples of your experience leading technology teams in the development and delivery of educational software products?\n",
      "hey\n",
      "bye\n",
      "Found user message. Fetching messages ... \n",
      "Found user message. Fetching messages ... \n",
      "That's impressive. Moving on to the next question:\n",
      "\n",
      "2. How do you stay current with emerging technologies and trends in the educational software industry?\n",
      "hey\n",
      "bye\n",
      "Found user message. Fetching messages ... \n",
      "Found user message. Fetching messages ... \n",
      "Great to hear that. Now, onto the next question:\n",
      "\n",
      "3. How do you approach project management and ensure successful implementation of software development projects?\n",
      "hey\n",
      "bye\n",
      "Found user message. Fetching messages ... \n",
      "Found user message. Fetching messages ... \n",
      "Good to know. Now, let's move on to the next question:\n",
      "\n",
      "4. Can you describe a time when you had to resolve a technical issue or bottleneck within your team? How did you handle it?\n",
      "hey\n",
      "bye\n",
      "Found user message. Fetching messages ... \n",
      "Found user message. Fetching messages ... \n",
      "That sounds like a thorough approach. Next question:\n",
      "\n",
      "5. How do you prioritize and allocate resources, such as budget and manpower, for technology projects within an educational software provider?\n",
      "hey\n",
      "bye\n",
      "Found user message. Fetching messages ... \n",
      "Found user message. Fetching messages ... \n",
      "That sounds like a well-thought-out approach. Moving on to the next question:\n",
      "\n",
      "6. Can you give examples of how you have collaborated with cross-functional teams, such as product, design, and marketing, to achieve successful outcomes for educational software products?\n",
      "hey\n",
      "bye\n",
      "Found user message. Fetching messages ... \n",
      "Found user message. Fetching messages ... \n",
      "That sounds like an effective way to collaborate. Next question:\n",
      "\n",
      "7. How do you assess and address the technical skills and development needs of your team members?\n",
      "hey\n",
      "bye\n",
      "Found user message. Fetching messages ... \n",
      "Found user message. Fetching messages ... \n",
      "It's great to hear that you prioritize continuous learning. Moving on to the next question:\n",
      "\n",
      "8. Can you discuss a time when you successfully led a team through a major technology upgrade or migration within an educational software provider?\n",
      "hey\n",
      "bye\n",
      "Found user message. Fetching messages ... \n",
      "Found user message. Fetching messages ... \n"
     ]
    },
    {
     "ename": "IndexError",
     "evalue": "list index out of range",
     "output_type": "error",
     "traceback": [
      "\u001b[0;31m---------------------------------------------------------------------------\u001b[0m",
      "\u001b[0;31mIndexError\u001b[0m                                Traceback (most recent call last)",
      "Cell \u001b[0;32mIn [55], line 29\u001b[0m\n\u001b[1;32m     27\u001b[0m     messages \u001b[38;5;241m=\u001b[39m client\u001b[38;5;241m.\u001b[39mbeta\u001b[38;5;241m.\u001b[39mthreads\u001b[38;5;241m.\u001b[39mmessages\u001b[38;5;241m.\u001b[39mlist(thread_id)\n\u001b[1;32m     28\u001b[0m     time\u001b[38;5;241m.\u001b[39msleep(\u001b[38;5;241m2\u001b[39m)\n\u001b[0;32m---> 29\u001b[0m assistant_message \u001b[38;5;241m=\u001b[39m \u001b[43mmessages\u001b[49m\u001b[38;5;241;43m.\u001b[39;49m\u001b[43mto_dict\u001b[49m\u001b[43m(\u001b[49m\u001b[43m)\u001b[49m\u001b[43m[\u001b[49m\u001b[38;5;124;43m'\u001b[39;49m\u001b[38;5;124;43mdata\u001b[39;49m\u001b[38;5;124;43m'\u001b[39;49m\u001b[43m]\u001b[49m\u001b[43m[\u001b[49m\u001b[38;5;241;43m0\u001b[39;49m\u001b[43m]\u001b[49m\u001b[43m[\u001b[49m\u001b[38;5;124;43m'\u001b[39;49m\u001b[38;5;124;43mcontent\u001b[39;49m\u001b[38;5;124;43m'\u001b[39;49m\u001b[43m]\u001b[49m\u001b[43m[\u001b[49m\u001b[38;5;241;43m0\u001b[39;49m\u001b[43m]\u001b[49m[\u001b[38;5;124m'\u001b[39m\u001b[38;5;124mtext\u001b[39m\u001b[38;5;124m'\u001b[39m][\u001b[38;5;124m'\u001b[39m\u001b[38;5;124mvalue\u001b[39m\u001b[38;5;124m'\u001b[39m]\n\u001b[1;32m     30\u001b[0m \u001b[38;5;28mprint\u001b[39m(assistant_message)\n",
      "\u001b[0;31mIndexError\u001b[0m: list index out of range"
     ]
    }
   ],
   "source": [
    "print(\"This is an interview bot to evaluate your skills ...\")\n",
    "empty_thread = client.beta.threads.create()\n",
    "thread_id = empty_thread.to_dict()['id']\n",
    "# print(empty_thread.to_dict())\n",
    "print('Thread ID: {}'.format(thread_id))\n",
    "while True:\n",
    "    question = input(\"? Enter your response: \")\n",
    "    if question in [\"exit\", 'q', \"quit\", \"Exit\", \"Bye\", \"bye\"]:\n",
    "        print(\"Exiting...\")\n",
    "        break\n",
    "    thread_message = client.beta.threads.messages.create(\n",
    "        thread_id,\n",
    "        role=\"user\",\n",
    "        content=question,\n",
    "        )\n",
    "    # print(thread_message.to_json())\n",
    "    run = client.beta.threads.runs.create(\n",
    "        thread_id = thread_id,\n",
    "        assistant_id = assistant_id,\n",
    "        additional_instructions=additional_run_instructions\n",
    "    )\n",
    "    print(\"hey\")\n",
    "    messages = client.beta.threads.messages.list(thread_id)\n",
    "    print('bye')\n",
    "    while messages.to_dict()['data'][0]['role'] != 'assistant':\n",
    "        print('Found {} message. Fetching messages ... '.format(messages.to_dict()['data'][0]['role']))\n",
    "        messages = client.beta.threads.messages.list(thread_id)\n",
    "        time.sleep(2)\n",
    "    assistant_message = messages.to_dict()['data'][0]['content'][0]['text']['value']\n",
    "    print(assistant_message)"
   ]
  },
  {
   "cell_type": "code",
   "execution_count": null,
   "metadata": {
    "cell_id": "eae0b82482cd40378faa009c8876845a",
    "deepnote_cell_type": "code",
    "deepnote_to_be_reexecuted": false,
    "execution_millis": 116,
    "execution_start": 1716021721171,
    "source_hash": null
   },
   "outputs": [],
   "source": [
    "messages = client.beta.threads.messages.list(thread_id).to_dict()"
   ]
  },
  {
   "cell_type": "code",
   "execution_count": null,
   "metadata": {
    "cell_id": "fc4f7e3addc14e1596d2db261e32e352",
    "deepnote_cell_type": "code",
    "deepnote_to_be_reexecuted": false,
    "execution_millis": 87729,
    "execution_start": 1716021818003,
    "source_hash": null
   },
   "outputs": [
    {
     "name": "stdout",
     "output_type": "stream",
     "text": [
      "This is an interview bot to evaluate your skills ...\n",
      "hey\n",
      "bye\n",
      "Found user message. Fetching messages ... \n",
      "Found user message. Fetching messages ... \n",
      "Thank you for sharing that. Finally, the last question:\n",
      "\n",
      "10. What strategies do you use to foster a culture of innovation and continuous learning within your technology team in the context of educational software development?\n",
      "hey\n",
      "bye\n",
      "Found user message. Fetching messages ... \n",
      "Found user message. Fetching messages ... \n",
      "Thank you for your answers. Hope you have a good day. Bye.\n",
      "Exiting...\n"
     ]
    }
   ],
   "source": [
    "print(\"This is an interview bot to evaluate your skills ...\")\n",
    "# empty_thread = client.beta.threads.create()\n",
    "# thread_id = empty_thread.to_dict()['id']\n",
    "# # print(empty_thread.to_dict())\n",
    "# print('Thread ID: {}'.format(thread_id))\n",
    "while True:\n",
    "    question = input(\"? Enter your response: \")\n",
    "    if question in [\"exit\", 'q', \"quit\", \"Exit\", \"Bye\", \"bye\"]:\n",
    "        print(\"Exiting...\")\n",
    "        break\n",
    "    thread_message = client.beta.threads.messages.create(\n",
    "        thread_id,\n",
    "        role=\"user\",\n",
    "        content=question,\n",
    "        )\n",
    "    # print(thread_message.to_json())\n",
    "    run = client.beta.threads.runs.create(\n",
    "        thread_id = thread_id,\n",
    "        assistant_id = assistant_id,\n",
    "        additional_instructions=additional_run_instructions\n",
    "    )\n",
    "    print(\"hey\")\n",
    "    messages = client.beta.threads.messages.list(thread_id)\n",
    "    print('bye')\n",
    "    while messages.to_dict()['data'][0]['role'] != 'assistant':\n",
    "        print('Found {} message. Fetching messages ... '.format(messages.to_dict()['data'][0]['role']))\n",
    "        messages = client.beta.threads.messages.list(thread_id)\n",
    "        time.sleep(2)\n",
    "    assistant_message = messages.to_dict()['data'][0]['content'][0]['text']['value']\n",
    "    print(assistant_message)"
   ]
  },
  {
   "cell_type": "code",
   "execution_count": null,
   "metadata": {
    "cell_id": "e94394f03dc54d08a204be0789c75262",
    "deepnote_cell_type": "code",
    "deepnote_to_be_reexecuted": false,
    "execution_millis": 251,
    "execution_start": 1716021727159,
    "source_hash": null
   },
   "outputs": [
    {
     "data": {
      "text/plain": [
       "{'id': 'msg_KirHYbUyV162ZIIDjfwa9hXW',\n",
       " 'assistant_id': 'asst_0Q7erY5h7KJl7MBCofscfmyN',\n",
       " 'attachments': [],\n",
       " 'content': [{'text': {'annotations': [],\n",
       "    'value': 'That sounds like a significant transition. Next question:\\n\\n9. How do you approach performance evaluations and career development for your team members within a technology team in an educational software provider?'},\n",
       "   'type': 'text'}],\n",
       " 'created_at': 1716021656,\n",
       " 'metadata': {},\n",
       " 'object': 'thread.message',\n",
       " 'role': 'assistant',\n",
       " 'run_id': 'run_nMvRw1XU6VO6ngkIwFMOYg0a',\n",
       " 'thread_id': 'thread_w5ApE0Kj2b0LkfQlEPjh2JEe'}"
      ]
     },
     "execution_count": 58,
     "metadata": {},
     "output_type": "execute_result"
    }
   ],
   "source": [
    "messages['data'][0]"
   ]
  },
  {
   "cell_type": "code",
   "execution_count": null,
   "metadata": {
    "cell_id": "4ba0918d35a942bd804ac9df09dd268c",
    "deepnote_cell_type": "code",
    "deepnote_to_be_reexecuted": false,
    "execution_millis": 79,
    "execution_start": 1716020996855,
    "source_hash": null
   },
   "outputs": [
    {
     "data": {
      "text/plain": [
       "{'id': 'msg_nDA7CAdaewSs4rY9EbiRjqPI',\n",
       " 'assistant_id': 'asst_0Q7erY5h7KJl7MBCofscfmyN',\n",
       " 'attachments': [],\n",
       " 'content': [{'text': {'annotations': [],\n",
       "    'value': \"Great! Let's begin with the questions to gather information about your experience and skills in leading technology teams in the development and delivery of educational software products.\\n\\n1. Can you provide examples of your experience leading technology teams in the development and delivery of educational software products?\\n2. How do you stay current with emerging technologies and trends in the educational software industry?\\n3. How do you approach project management and ensure successful implementation of software development projects?\"},\n",
       "   'type': 'text'}],\n",
       " 'created_at': 1716020873,\n",
       " 'metadata': {},\n",
       " 'object': 'thread.message',\n",
       " 'role': 'assistant',\n",
       " 'run_id': 'run_RT7jH8z6iyaMNuvOrngllaNE',\n",
       " 'thread_id': 'thread_2emOeN10EO62eSpGqhkDNF93'}"
      ]
     },
     "execution_count": 53,
     "metadata": {},
     "output_type": "execute_result"
    }
   ],
   "source": [
    "messages['data'][0]"
   ]
  },
  {
   "cell_type": "markdown",
   "metadata": {
    "cell_id": "9aa1e0a931864f039963571639b2f87a",
    "deepnote_cell_type": "markdown"
   },
   "source": [
    "### Step 5C: Lookout for the ending phrase to end the conversation\n",
    "\n",
    "```\n",
    "Thank you for your anwsers. Hope you have a good day. Bye.\n",
    "```"
   ]
  },
  {
   "cell_type": "markdown",
   "metadata": {
    "cell_id": "9f070c25a4cf476596b879c8f964f60f",
    "deepnote_cell_type": "markdown"
   },
   "source": [
    "### Step 6: Analyse the Skills from the conversation\n",
    "\n",
    "```\n",
    "## Aim: Based on the conversation, \n",
    "- Evaluate the user's skills\n",
    "- For each of the mentioned skills, give a rating as mentioned\n",
    "    \n",
    "## Output\n",
    "For each required skill, provide the following information\n",
    "- Skill Present: Does conversation mention about the skill\n",
    "    - Value should be \"Yes\" if the skill is mentioned in the conversation\n",
    "    - Value should be \"No\" if the skill is not mentioned\n",
    "- Level of knowledge of the skill: How well the user demonstrates this skill\n",
    "    - Good: Demonstrates exceptional abilities about the skill\n",
    "    - Medium: User demonstrates some abilities and willingness to learn\n",
    "    - Low: User lacks enough knowledge of the skill\n",
    "    - Not present: There is no mention of the skill in the conversation\n",
    "\n",
    "## Skills\n",
    "{{ Generated Skills }}\n",
    "\n",
    "## Conversation\n",
    "{{ Conversation messages }}\n",
    "```"
   ]
  },
  {
   "cell_type": "code",
   "execution_count": null,
   "metadata": {
    "cell_id": "be119af35ecf4b919403b71ece8fb50c",
    "deepnote_cell_type": "code",
    "deepnote_to_be_reexecuted": false,
    "execution_millis": 156,
    "execution_start": 1716022226700,
    "source_hash": null
   },
   "outputs": [],
   "source": [
    "messages = client.beta.threads.messages.list(thread_id, limit=100).to_dict()"
   ]
  },
  {
   "cell_type": "code",
   "execution_count": null,
   "metadata": {
    "cell_id": "9ae95b7309f34f1a8fdf87b6e218f315",
    "deepnote_cell_type": "code",
    "deepnote_to_be_reexecuted": false,
    "execution_millis": 53,
    "execution_start": 1716022294779,
    "source_hash": null
   },
   "outputs": [
    {
     "name": "stdout",
     "output_type": "stream",
     "text": [
      "user: Let's go\n",
      "assistant: Great! Let's start with the first question:\n",
      "\n",
      "1. Can you provide examples of your experience leading technology teams in the development and delivery of educational software products?\n",
      "user: I lead the engineering team cmprising of 10 engineers at Wise, which is our present company. In my past experience as well, I have led teams of different sizes. \n",
      "assistant: That's impressive. Moving on to the next question:\n",
      "\n",
      "2. How do you stay current with emerging technologies and trends in the educational software industry?\n",
      "user: I read a lot of blogs, start in touch on Google and Youtube as well\n",
      "assistant: Great to hear that. Now, onto the next question:\n",
      "\n",
      "3. How do you approach project management and ensure successful implementation of software development projects?\n",
      "user: We use JIRA to manage our backlog and sprints. We have a culture of doing regular standups as well. \n",
      "assistant: Good to know. Now, let's move on to the next question:\n",
      "\n",
      "4. Can you describe a time when you had to resolve a technical issue or bottleneck within your team? How did you handle it?\n",
      "user: Finding the right people to solve the problem is the first step. Brainstorming about possible solutions and experimenting with the code is the way to go. \n",
      "assistant: That sounds like a thorough approach. Next question:\n",
      "\n",
      "5. How do you prioritize and allocate resources, such as budget and manpower, for technology projects within an educational software provider?\n",
      "user: We conduct customer interviews to understand the requirements which need to be built urgently. Budget constraints are kept in mind while finalising the solutions to be built.\n",
      "assistant: That sounds like a well-thought-out approach. Moving on to the next question:\n",
      "\n",
      "6. Can you give examples of how you have collaborated with cross-functional teams, such as product, design, and marketing, to achieve successful outcomes for educational software products?\n",
      "user: We use slack and have frequent cross-team meetings. Also in the company, we have created pods for different features or projects which keeps cross-function friction to the minimum. \n",
      "assistant: That sounds like an effective way to collaborate. Next question:\n",
      "\n",
      "7. How do you assess and address the technical skills and development needs of your team members?\n",
      "user: My team members have a training schedule over each quarter which they need to compleete. \n",
      "assistant: It's great to hear that you prioritize continuous learning. Moving on to the next question:\n",
      "\n",
      "8. Can you discuss a time when you successfully led a team through a major technology upgrade or migration within an educational software provider?\n",
      "user: View moved from React to Vue on the frontend and from Ruby on Rails to NodeJS on the backend. This was quite a major exercise.\n",
      "assistant: That sounds like a significant transition. Next question:\n",
      "\n",
      "9. How do you approach performance evaluations and career development for your team members within a technology team in an educational software provider?\n",
      "user: Performance evaluations are used for appraisals and are done twice a year.\n",
      "assistant: Thank you for sharing that. Finally, the last question:\n",
      "\n",
      "10. What strategies do you use to foster a culture of innovation and continuous learning within your technology team in the context of educational software development?\n",
      "user: We have create a process to run hackathons in the company to get tech team members to create innovative features.\n",
      "assistant: Thank you for your answers. Hope you have a good day. Bye.\n",
      "\n"
     ]
    }
   ],
   "source": [
    "conversation = ''\n",
    "for _dt in messages['data'][::-1]:\n",
    "    conversation += '{}: {}\\n'.format(_dt['role'], _dt['content'][0]['text']['value'])\n",
    "print(conversation)"
   ]
  },
  {
   "cell_type": "code",
   "execution_count": null,
   "metadata": {
    "cell_id": "9b2efb2db92e4f2a99b311990656fa79",
    "deepnote_cell_type": "code",
    "deepnote_to_be_reexecuted": false,
    "execution_millis": 19,
    "execution_start": 1716022340483,
    "source_hash": null
   },
   "outputs": [
    {
     "data": {
      "text/plain": [
       "'1. Technical Skills:\\n   a. Proficiency in software development languages and frameworks\\n   b. Understanding of database management and design\\n   c. Knowledge of cloud computing technologies and platforms\\n   d. Ability to troubleshoot technical issues and provide solutions\\n\\n2. Leadership Skills:\\n   a. Strong communication skills to effectively convey ideas and instructions to team members\\n   b. Ability to inspire and motivate team members to achieve common goals\\n   c. Decision-making and problem-solving abilities to resolve conflicts and make strategic decisions\\n   d. Project management skills to prioritize tasks and meet deadlines\\n\\n3. Educational Domain Knowledge:\\n   a. Understanding of educational software development principles and practices\\n   b. Knowledge of learning management systems and educational technologies\\n   c. Familiarity with educational standards and regulations\\n   d. Ability to create innovative solutions that cater to the needs of educators and students\\n\\n4. Team Building Skills:\\n   a. Ability to build and manage diverse teams with varying skill sets and backgrounds\\n   b. Capacity to foster a collaborative and inclusive work environment\\n   c. Conflict resolution skills to address team dynamics and interpersonal issues\\n   d. Mentoring and coaching abilities to support team members in their professional development\\n\\n5. Business Acumen:\\n   a. Understanding of market trends and competition in the educational software industry\\n   b. Ability to align technical decisions with business objectives and strategies\\n   c. Experience in budgeting and resource management to optimize team performance\\n   d. Entrepreneurial mindset to identify new opportunities for growth and innovation.'"
      ]
     },
     "execution_count": 68,
     "metadata": {},
     "output_type": "execute_result"
    }
   ],
   "source": [
    "skills"
   ]
  },
  {
   "cell_type": "code",
   "execution_count": null,
   "metadata": {
    "cell_id": "123adcdbd1df4ac287a14a670c795b70",
    "deepnote_cell_type": "code",
    "deepnote_to_be_reexecuted": false,
    "execution_millis": 143,
    "execution_start": 1716022359294,
    "source_hash": null
   },
   "outputs": [
    {
     "name": "stdout",
     "output_type": "stream",
     "text": [
      "\n",
      "## Aim: Based on the conversation, \n",
      "- Evaluate the user's skills\n",
      "- For each of the mentioned skills, give a rating as mentioned\n",
      "    \n",
      "## Output\n",
      "For each required skill, provide the following information\n",
      "- Skill Present: Does conversation mention about the skill\n",
      "    - Value should be \"Yes\" if the skill is mentioned in the conversation\n",
      "    - Value should be \"No\" if the skill is not mentioned\n",
      "- Level of knowledge of the skill: How well the user demonstrates this skill\n",
      "    - Good: Demonstrates exceptional abilities about the skill\n",
      "    - Medium: User demonstrates some abilities and willingness to learn\n",
      "    - Low: User lacks enough knowledge of the skill\n",
      "    - Not present: There is no mention of the skill in the conversation\n",
      "\n",
      "## Skills\n",
      "1. Technical Skills:\n",
      "   a. Proficiency in software development languages and frameworks\n",
      "   b. Understanding of database management and design\n",
      "   c. Knowledge of cloud computing technologies and platforms\n",
      "   d. Ability to troubleshoot technical issues and provide solutions\n",
      "\n",
      "2. Leadership Skills:\n",
      "   a. Strong communication skills to effectively convey ideas and instructions to team members\n",
      "   b. Ability to inspire and motivate team members to achieve common goals\n",
      "   c. Decision-making and problem-solving abilities to resolve conflicts and make strategic decisions\n",
      "   d. Project management skills to prioritize tasks and meet deadlines\n",
      "\n",
      "3. Educational Domain Knowledge:\n",
      "   a. Understanding of educational software development principles and practices\n",
      "   b. Knowledge of learning management systems and educational technologies\n",
      "   c. Familiarity with educational standards and regulations\n",
      "   d. Ability to create innovative solutions that cater to the needs of educators and students\n",
      "\n",
      "4. Team Building Skills:\n",
      "   a. Ability to build and manage diverse teams with varying skill sets and backgrounds\n",
      "   b. Capacity to foster a collaborative and inclusive work environment\n",
      "   c. Conflict resolution skills to address team dynamics and interpersonal issues\n",
      "   d. Mentoring and coaching abilities to support team members in their professional development\n",
      "\n",
      "5. Business Acumen:\n",
      "   a. Understanding of market trends and competition in the educational software industry\n",
      "   b. Ability to align technical decisions with business objectives and strategies\n",
      "   c. Experience in budgeting and resource management to optimize team performance\n",
      "   d. Entrepreneurial mindset to identify new opportunities for growth and innovation.\n",
      "\n",
      "## Conversation\n",
      "user: Let's go\n",
      "assistant: Great! Let's start with the first question:\n",
      "\n",
      "1. Can you provide examples of your experience leading technology teams in the development and delivery of educational software products?\n",
      "user: I lead the engineering team cmprising of 10 engineers at Wise, which is our present company. In my past experience as well, I have led teams of different sizes. \n",
      "assistant: That's impressive. Moving on to the next question:\n",
      "\n",
      "2. How do you stay current with emerging technologies and trends in the educational software industry?\n",
      "user: I read a lot of blogs, start in touch on Google and Youtube as well\n",
      "assistant: Great to hear that. Now, onto the next question:\n",
      "\n",
      "3. How do you approach project management and ensure successful implementation of software development projects?\n",
      "user: We use JIRA to manage our backlog and sprints. We have a culture of doing regular standups as well. \n",
      "assistant: Good to know. Now, let's move on to the next question:\n",
      "\n",
      "4. Can you describe a time when you had to resolve a technical issue or bottleneck within your team? How did you handle it?\n",
      "user: Finding the right people to solve the problem is the first step. Brainstorming about possible solutions and experimenting with the code is the way to go. \n",
      "assistant: That sounds like a thorough approach. Next question:\n",
      "\n",
      "5. How do you prioritize and allocate resources, such as budget and manpower, for technology projects within an educational software provider?\n",
      "user: We conduct customer interviews to understand the requirements which need to be built urgently. Budget constraints are kept in mind while finalising the solutions to be built.\n",
      "assistant: That sounds like a well-thought-out approach. Moving on to the next question:\n",
      "\n",
      "6. Can you give examples of how you have collaborated with cross-functional teams, such as product, design, and marketing, to achieve successful outcomes for educational software products?\n",
      "user: We use slack and have frequent cross-team meetings. Also in the company, we have created pods for different features or projects which keeps cross-function friction to the minimum. \n",
      "assistant: That sounds like an effective way to collaborate. Next question:\n",
      "\n",
      "7. How do you assess and address the technical skills and development needs of your team members?\n",
      "user: My team members have a training schedule over each quarter which they need to compleete. \n",
      "assistant: It's great to hear that you prioritize continuous learning. Moving on to the next question:\n",
      "\n",
      "8. Can you discuss a time when you successfully led a team through a major technology upgrade or migration within an educational software provider?\n",
      "user: View moved from React to Vue on the frontend and from Ruby on Rails to NodeJS on the backend. This was quite a major exercise.\n",
      "assistant: That sounds like a significant transition. Next question:\n",
      "\n",
      "9. How do you approach performance evaluations and career development for your team members within a technology team in an educational software provider?\n",
      "user: Performance evaluations are used for appraisals and are done twice a year.\n",
      "assistant: Thank you for sharing that. Finally, the last question:\n",
      "\n",
      "10. What strategies do you use to foster a culture of innovation and continuous learning within your technology team in the context of educational software development?\n",
      "user: We have create a process to run hackathons in the company to get tech team members to create innovative features.\n",
      "assistant: Thank you for your answers. Hope you have a good day. Bye.\n",
      "\n",
      "\n"
     ]
    }
   ],
   "source": [
    "prompt3 = '''\n",
    "## Aim: Based on the conversation, \n",
    "- Evaluate the user's skills\n",
    "- For each of the mentioned skills, give a rating as mentioned\n",
    "    \n",
    "## Output\n",
    "For each required skill, provide the following information\n",
    "- Skill Present: Does conversation mention about the skill\n",
    "    - Value should be \"Yes\" if the skill is mentioned in the conversation\n",
    "    - Value should be \"No\" if the skill is not mentioned\n",
    "- Level of knowledge of the skill: How well the user demonstrates this skill\n",
    "    - Good: Demonstrates exceptional abilities about the skill\n",
    "    - Medium: User demonstrates some abilities and willingness to learn\n",
    "    - Low: User lacks enough knowledge of the skill\n",
    "    - Not present: There is no mention of the skill in the conversation\n",
    "\n",
    "## Skills\n",
    "{skills}\n",
    "\n",
    "## Conversation\n",
    "{conversation}\n",
    "'''.format(skills=skills, conversation=conversation)\n",
    "print(prompt3)"
   ]
  },
  {
   "cell_type": "code",
   "execution_count": null,
   "metadata": {
    "cell_id": "0af5b4c882cb498a912362cdfce0b12d",
    "deepnote_cell_type": "code",
    "deepnote_to_be_reexecuted": false,
    "execution_millis": 13331,
    "execution_start": 1716022642163,
    "source_hash": null
   },
   "outputs": [],
   "source": [
    "chat_completion = client.chat.completions.create(\n",
    "    messages=[\n",
    "        {\n",
    "            \"role\": \"user\",\n",
    "            \"content\": prompt3,\n",
    "        }\n",
    "    ],\n",
    "    model=\"gpt-4o\",\n",
    ")"
   ]
  },
  {
   "cell_type": "code",
   "execution_count": null,
   "metadata": {
    "cell_id": "f2e91582e20c4c5dab59c6bc4505c7d5",
    "deepnote_cell_type": "code",
    "deepnote_to_be_reexecuted": false,
    "execution_millis": 213,
    "execution_start": 1716022655498,
    "source_hash": null
   },
   "outputs": [
    {
     "name": "stdout",
     "output_type": "stream",
     "text": [
      "Based on the conversation, here is the evaluation of the user's skills:\n",
      "\n",
      "### 1. Technical Skills:\n",
      "#### a. Proficiency in software development languages and frameworks\n",
      "- **Skill Present:** Yes\n",
      "- **Level of knowledge:** Good (User mentions handling significant migrations such as React to Vue and Ruby on Rails to NodeJS indicating strong language and framework proficiency.)\n",
      "\n",
      "#### b. Understanding of database management and design\n",
      "- **Skill Present:** No\n",
      "- **Level of knowledge:** Not present\n",
      "\n",
      "#### c. Knowledge of cloud computing technologies and platforms\n",
      "- **Skill Present:** No\n",
      "- **Level of knowledge:** Not present\n",
      "\n",
      "#### d. Ability to troubleshoot technical issues and provide solutions\n",
      "- **Skill Present:** Yes\n",
      "- **Level of knowledge:** Medium (Brainstorming and experimenting with code implies practical problem-solving skills.)\n",
      "\n",
      "### 2. Leadership Skills:\n",
      "#### a. Strong communication skills to effectively convey ideas and instructions to team members\n",
      "- **Skill Present:** Yes\n",
      "- **Level of knowledge:** Good (Effective communication is implied through regular standups and frequent cross-team meetings.)\n",
      "\n",
      "#### b. Ability to inspire and motivate team members to achieve common goals\n",
      "- **Skill Present:** Yes\n",
      "- **Level of knowledge:** Medium (The user discusses fostering a culture of innovation with hackathons, showing some ability to motivate the team.)\n",
      "\n",
      "#### c. Decision-making and problem-solving abilities to resolve conflicts and make strategic decisions\n",
      "- **Skill Present:** Yes\n",
      "- **Level of knowledge:** Medium (User mentions conducting customer interviews and solving technical issues through brainstorming, indicating strategic decision-making skills.)\n",
      "\n",
      "#### d. Project management skills to prioritize tasks and meet deadlines\n",
      "- **Skill Present:** Yes\n",
      "- **Level of knowledge:** Good (User effectively utilizes JIRA for backlog and sprint management and has a clear structure of project execution.)\n",
      "\n",
      "### 3. Educational Domain Knowledge:\n",
      "#### a. Understanding of educational software development principles and practices\n",
      "- **Skill Present:** No\n",
      "- **Level of knowledge:** Not present\n",
      "\n",
      "#### b. Knowledge of learning management systems and educational technologies\n",
      "- **Skill Present:** No\n",
      "- **Level of knowledge:** Not present\n",
      "\n",
      "#### c. Familiarity with educational standards and regulations\n",
      "- **Skill Present:** No\n",
      "- **Level of knowledge:** Not present\n",
      "\n",
      "#### d. Ability to create innovative solutions that cater to the needs of educators and students\n",
      "- **Skill Present:** Yes\n",
      "- **Level of knowledge:** Medium (Mention of hackathons to innovate indicates some ability to create tailored solutions for educational needs.)\n",
      "\n",
      "### 4. Team Building Skills:\n",
      "#### a. Ability to build and manage diverse teams with varying skill sets and backgrounds\n",
      "- **Skill Present:** Yes\n",
      "- **Level of knowledge:** Good (User manages a team of 10 engineers and has also led various sizes of teams in the past.)\n",
      "\n",
      "#### b. Capacity to foster a collaborative and inclusive work environment\n",
      "- **Skill Present:** Yes\n",
      "- **Level of knowledge:** Good (Frequent cross-team meetings and the use of Slack for collaboration display inclusivity.)\n",
      "\n",
      "#### c. Conflict resolution skills to address team dynamics and interpersonal issues\n",
      "- **Skill Present:** Yes\n",
      "- **Level of knowledge:** Medium (User handles issues by finding the right people for solutions, indicating some conflict resolution skills.)\n",
      "\n",
      "#### d. Mentoring and coaching abilities to support team members in their professional development\n",
      "- **Skill Present:** Yes\n",
      "- **Level of knowledge:** Medium (Team members have quarterly training schedules.)\n",
      "\n",
      "### 5. Business Acumen:\n",
      "#### a. Understanding of market trends and competition in the educational software industry\n",
      "- **Skill Present:** No\n",
      "- **Level of knowledge:** Not present\n",
      "\n",
      "#### b. Ability to align technical decisions with business objectives and strategies\n",
      "- **Skill Present:** Yes\n",
      "- **Level of knowledge:** Medium (User aligns resource allocation by conducting customer interviews and understanding budget constraints.)\n",
      "\n",
      "#### c. Experience in budgeting and resource management to optimize team performance\n",
      "- **Skill Present:** Yes\n",
      "- **Level of knowledge:** Medium (User allocates resources based on customer needs and budget constraints.)\n",
      "\n",
      "#### d. Entrepreneurial mindset to identify new opportunities for growth and innovation\n",
      "- **Skill Present:** Yes\n",
      "- **Level of knowledge:** Medium (Hackathons indicate a mindset focused on innovation and growth.)\n",
      "\n",
      "---\n",
      "\n",
      "Overall, the user demonstrates strong leadership, team-building, and technical troubleshooting skills, with moderate abilities in business acumen and creating innovative solutions. However, there is no mention of certain technical skills like database management, cloud computing, and educational domain-specific knowledge.\n"
     ]
    }
   ],
   "source": [
    "analysis = chat_completion.choices[0].message.to_dict()['content']\n",
    "print(analysis)"
   ]
  }
 ],
 "metadata": {
  "deepnote_execution_queue": [],
  "deepnote_notebook_id": "5550bf9ea78c4d84b18f95f417ff44c5",
  "kernelspec": {
   "display_name": "Python 3",
   "language": "python",
   "name": "python3"
  },
  "language_info": {
   "codemirror_mode": {
    "name": "ipython",
    "version": 3
   },
   "file_extension": ".py",
   "mimetype": "text/x-python",
   "name": "python",
   "nbconvert_exporter": "python",
   "pygments_lexer": "ipython3",
   "version": "3.8.8"
  }
 },
 "nbformat": 4,
 "nbformat_minor": 1
}
